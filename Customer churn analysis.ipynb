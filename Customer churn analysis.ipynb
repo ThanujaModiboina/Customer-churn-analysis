{
 "cells": [
  {
   "cell_type": "code",
   "execution_count": 1,
   "id": "8371007d",
   "metadata": {},
   "outputs": [],
   "source": [
    "import numpy as np \n",
    "import pandas as pd\n",
    "import seaborn as sns\n",
    "import matplotlib.pyplot as plt"
   ]
  },
  {
   "cell_type": "code",
   "execution_count": 2,
   "id": "4bfe2b55",
   "metadata": {},
   "outputs": [
    {
     "name": "stdout",
     "output_type": "stream",
     "text": [
      "(7350, 12)\n"
     ]
    },
    {
     "data": {
      "text/html": [
       "<div>\n",
       "<style scoped>\n",
       "    .dataframe tbody tr th:only-of-type {\n",
       "        vertical-align: middle;\n",
       "    }\n",
       "\n",
       "    .dataframe tbody tr th {\n",
       "        vertical-align: top;\n",
       "    }\n",
       "\n",
       "    .dataframe thead th {\n",
       "        text-align: right;\n",
       "    }\n",
       "</style>\n",
       "<table border=\"1\" class=\"dataframe\">\n",
       "  <thead>\n",
       "    <tr style=\"text-align: right;\">\n",
       "      <th></th>\n",
       "      <th>Unnamed: 0</th>\n",
       "      <th>customer_id</th>\n",
       "      <th>gender</th>\n",
       "      <th>location</th>\n",
       "      <th>partner</th>\n",
       "      <th>dependents</th>\n",
       "      <th>senior</th>\n",
       "      <th>Tenure</th>\n",
       "      <th>monthly_cost</th>\n",
       "      <th>package</th>\n",
       "      <th>survey</th>\n",
       "      <th>Class</th>\n",
       "    </tr>\n",
       "  </thead>\n",
       "  <tbody>\n",
       "    <tr>\n",
       "      <th>0</th>\n",
       "      <td>0</td>\n",
       "      <td>G1606</td>\n",
       "      <td>Female</td>\n",
       "      <td>Lancashire</td>\n",
       "      <td>0</td>\n",
       "      <td>1</td>\n",
       "      <td>0</td>\n",
       "      <td>20.0</td>\n",
       "      <td>NaN</td>\n",
       "      <td>2</td>\n",
       "      <td>0</td>\n",
       "      <td>Churn=No</td>\n",
       "    </tr>\n",
       "    <tr>\n",
       "      <th>1</th>\n",
       "      <td>1</td>\n",
       "      <td>F8889</td>\n",
       "      <td>Female</td>\n",
       "      <td>Essex</td>\n",
       "      <td>0</td>\n",
       "      <td>1</td>\n",
       "      <td>0</td>\n",
       "      <td>4.0</td>\n",
       "      <td>NaN</td>\n",
       "      <td>1</td>\n",
       "      <td>5</td>\n",
       "      <td>Churn=No</td>\n",
       "    </tr>\n",
       "    <tr>\n",
       "      <th>2</th>\n",
       "      <td>2</td>\n",
       "      <td>C5068</td>\n",
       "      <td>Female</td>\n",
       "      <td>Essex</td>\n",
       "      <td>0</td>\n",
       "      <td>Unknown</td>\n",
       "      <td>1</td>\n",
       "      <td>9.0</td>\n",
       "      <td>NaN</td>\n",
       "      <td>2</td>\n",
       "      <td>0</td>\n",
       "      <td>Churn=No</td>\n",
       "    </tr>\n",
       "    <tr>\n",
       "      <th>3</th>\n",
       "      <td>3</td>\n",
       "      <td>G9820</td>\n",
       "      <td>Male</td>\n",
       "      <td>West Yorkshire</td>\n",
       "      <td>1</td>\n",
       "      <td>1</td>\n",
       "      <td>1</td>\n",
       "      <td>9.0</td>\n",
       "      <td>NaN</td>\n",
       "      <td>4</td>\n",
       "      <td>9</td>\n",
       "      <td>Churn=No</td>\n",
       "    </tr>\n",
       "    <tr>\n",
       "      <th>4</th>\n",
       "      <td>4</td>\n",
       "      <td>H7261</td>\n",
       "      <td>Male</td>\n",
       "      <td>Greater Manchester</td>\n",
       "      <td>0</td>\n",
       "      <td>1</td>\n",
       "      <td>0</td>\n",
       "      <td>6.0</td>\n",
       "      <td>NaN</td>\n",
       "      <td>2</td>\n",
       "      <td>5</td>\n",
       "      <td>Churn=No</td>\n",
       "    </tr>\n",
       "  </tbody>\n",
       "</table>\n",
       "</div>"
      ],
      "text/plain": [
       "   Unnamed: 0 customer_id  gender            location  partner dependents  \\\n",
       "0           0       G1606  Female          Lancashire        0          1   \n",
       "1           1       F8889  Female               Essex        0          1   \n",
       "2           2       C5068  Female               Essex        0    Unknown   \n",
       "3           3       G9820    Male      West Yorkshire        1          1   \n",
       "4           4       H7261    Male  Greater Manchester        0          1   \n",
       "\n",
       "   senior  Tenure monthly_cost  package survey     Class  \n",
       "0       0    20.0          NaN        2      0  Churn=No  \n",
       "1       0     4.0          NaN        1      5  Churn=No  \n",
       "2       1     9.0          NaN        2      0  Churn=No  \n",
       "3       1     9.0          NaN        4      9  Churn=No  \n",
       "4       0     6.0          NaN        2      5  Churn=No  "
      ]
     },
     "execution_count": 2,
     "metadata": {},
     "output_type": "execute_result"
    }
   ],
   "source": [
    "d1 =pd.read_csv('Group 1.csv')\n",
    "print(d1.shape)\n",
    "d1.head()"
   ]
  },
  {
   "cell_type": "code",
   "execution_count": 3,
   "id": "f1621b33",
   "metadata": {},
   "outputs": [
    {
     "data": {
      "text/plain": [
       "customer_id        0\n",
       "gender             0\n",
       "location           0\n",
       "partner            0\n",
       "dependents         0\n",
       "senior             0\n",
       "Tenure             0\n",
       "monthly_cost    7271\n",
       "package            0\n",
       "survey             0\n",
       "Class             59\n",
       "dtype: int64"
      ]
     },
     "execution_count": 3,
     "metadata": {},
     "output_type": "execute_result"
    }
   ],
   "source": [
    "d1 = pd.read_csv('Group 1.csv', index_col=[0])\n",
    "d1.isna().sum()"
   ]
  },
  {
   "cell_type": "code",
   "execution_count": 4,
   "id": "d957cdc5",
   "metadata": {},
   "outputs": [
    {
     "name": "stdout",
     "output_type": "stream",
     "text": [
      "customer_id      object\n",
      "gender           object\n",
      "location         object\n",
      "partner           int64\n",
      "dependents       object\n",
      "senior            int64\n",
      "Tenure          float64\n",
      "monthly_cost     object\n",
      "package           int64\n",
      "survey           object\n",
      "Class            object\n",
      "dtype: object\n"
     ]
    }
   ],
   "source": [
    "print(d1.dtypes)"
   ]
  },
  {
   "cell_type": "code",
   "execution_count": 5,
   "id": "42d50c37",
   "metadata": {},
   "outputs": [
    {
     "name": "stdout",
     "output_type": "stream",
     "text": [
      "   customer_id  gender            location  partner dependents  senior  \\\n",
      "0        G1606  Female          Lancashire        0          1       0   \n",
      "1        F8889  Female               Essex        0          1       0   \n",
      "2        C5068  Female               Essex        0    Unknown       1   \n",
      "3        G9820    Male      West Yorkshire        1          1       1   \n",
      "4        H7261    Male  Greater Manchester        0          1       0   \n",
      "..         ...     ...                 ...      ...        ...     ...   \n",
      "86       J9897    Male          Lancashire        1          1       0   \n",
      "87       F5467  Female      Greater London        1          1       0   \n",
      "88       D8098  Female      Greater London        0          1       0   \n",
      "89       E5303    Male  Greater Manchester        0          0       0   \n",
      "90       H2848    Male      Greater London        0          1       1   \n",
      "\n",
      "    Tenure  monthly_cost  package survey      Class  total_cost  \n",
      "0     20.0          34.0        2      0   Churn=No       680.0  \n",
      "1      4.0          26.0        1      5   Churn=No       104.0  \n",
      "2      9.0          34.0        2      0   Churn=No       306.0  \n",
      "3      9.0          44.0        4      9   Churn=No       396.0  \n",
      "4      6.0          34.0        2      5   Churn=No       204.0  \n",
      "..     ...           ...      ...    ...        ...         ...  \n",
      "86    15.0          34.0        2      2   Churn=No       510.0  \n",
      "87    21.0          44.0        4      5   Churn=No       924.0  \n",
      "88    21.0          26.0        1      7   Churn=No       546.0  \n",
      "89     1.0          26.0        1      1  Churn=Yes        26.0  \n",
      "90    13.0          34.0        2      2  Churn=Yes       442.0  \n",
      "\n",
      "[91 rows x 12 columns]\n"
     ]
    },
    {
     "data": {
      "text/plain": [
       "(7224, 12)"
      ]
     },
     "execution_count": 5,
     "metadata": {},
     "output_type": "execute_result"
    }
   ],
   "source": [
    "package_s = {1:'26',2:'34',3:'40',4:'44'}\n",
    "d1['monthly_cost'] = d1['package'].map(package_s)\n",
    "d1['monthly_cost'] = d1['monthly_cost'].astype(float)\n",
    "d1['total_cost'] = d1['monthly_cost']*d1['Tenure']\n",
    "\n",
    "\n",
    "d1.drop(d1.index[d1['Tenure'] < 0], inplace=True)\n",
    "\n",
    "print(d1.head(91))\n",
    "d1.shape"
   ]
  },
  {
   "cell_type": "code",
   "execution_count": 6,
   "id": "146a0a21",
   "metadata": {
    "scrolled": false
   },
   "outputs": [],
   "source": [
    "#d1.drop(d1.index[d1['Tenure'] < 0], inplace=True)\n",
    "#print(d1.head(100))\n",
    "#d1.shape"
   ]
  },
  {
   "cell_type": "code",
   "execution_count": 7,
   "id": "18b52dfe",
   "metadata": {},
   "outputs": [],
   "source": [
    "#d1 = d1.dropna(axis=1)\n",
    "#d1 = d1.dropna(axis=0)\n",
    "#print(d1.Class.value_counts())\n",
    "#df[‘Class’].value_counts().plot(‘bar’).set_title(‘Churn’)\n",
    "#sns.countplot(x='Class',data=df,hue='gender',palette=\"coolwarm_r\")(graph syntax)"
   ]
  },
  {
   "cell_type": "code",
   "execution_count": 8,
   "id": "5bacac93",
   "metadata": {
    "scrolled": false
   },
   "outputs": [
    {
     "name": "stdout",
     "output_type": "stream",
     "text": [
      "   customer_id  gender            location  partner dependents  senior  \\\n",
      "0        G1606       0          Lancashire        0          1       0   \n",
      "1        F8889       0               Essex        0          1       0   \n",
      "2        C5068       0               Essex        0                  1   \n",
      "3        G9820       1      West Yorkshire        1          1       1   \n",
      "4        H7261       1  Greater Manchester        0          1       0   \n",
      "5        K5319       1  Greater Manchester        1          0       0   \n",
      "6        C4243       0       West Midlands        1          1       0   \n",
      "7        J7639       0      Greater London        1          1       0   \n",
      "8        I6974       0  Greater Manchester        1          1       0   \n",
      "9        I3011       0          Merseyside        1          1       0   \n",
      "10       D3337       0       Hertfordshire        1          1       0   \n",
      "11       G7931       1      Greater London        0                  0   \n",
      "12       C3676       1               Devon        1                  0   \n",
      "13       K5861       0      Greater London        0          0       1   \n",
      "14       I4460       0          Lancashire        1          0       0   \n",
      "15       D7262       1       West Midlands        0          0       1   \n",
      "16       D2571       0       West Midlands        0          0       0   \n",
      "17       E4331       1          Lancashire        1                  0   \n",
      "18       K5730       0     North Yorkshire        0          1       0   \n",
      "19       A4834       0          Lancashire        0          1       0   \n",
      "\n",
      "    Tenure  monthly_cost  package  survey  Class  total_cost  \n",
      "0     20.0          34.0        2     0.0    0.0       680.0  \n",
      "1      4.0          26.0        1     1.0    0.0       104.0  \n",
      "2      9.0          34.0        2     0.0    0.0       306.0  \n",
      "3      9.0          44.0        4     1.0    0.0       396.0  \n",
      "4      6.0          34.0        2     1.0    0.0       204.0  \n",
      "5      1.0          34.0        2     0.0    1.0        34.0  \n",
      "6      8.0          26.0        1     1.0    0.0       208.0  \n",
      "7     10.0          44.0        4     1.0    0.0       440.0  \n",
      "8     22.0          44.0        4     1.0    0.0       968.0  \n",
      "9      6.0          44.0        4     1.0    0.0       264.0  \n",
      "10     0.0          44.0        4     1.0    1.0         0.0  \n",
      "11     2.0          34.0        2     0.0    1.0        68.0  \n",
      "12     8.0          44.0        4     1.0    0.0       352.0  \n",
      "13     7.0          34.0        2     1.0    1.0       238.0  \n",
      "14     3.0          40.0        3     0.0    1.0       120.0  \n",
      "15    11.0          34.0        2     0.0    1.0       374.0  \n",
      "16     3.0          26.0        1     0.0    1.0        78.0  \n",
      "17     2.0          44.0        4     1.0    0.0        88.0  \n",
      "18    23.0          40.0        3     0.0    0.0       920.0  \n",
      "19    17.0          26.0        1     0.0    0.0       442.0  \n"
     ]
    },
    {
     "data": {
      "text/plain": [
       "(7224, 12)"
      ]
     },
     "execution_count": 8,
     "metadata": {},
     "output_type": "execute_result"
    }
   ],
   "source": [
    "d1[\"Class\"] = d1[\"Class\"].map({'Churn=No':0,'Churn=Yes':1})\n",
    "d1[\"gender\"] = d1[\"gender\"].map({'Female':0,'Male':1})\n",
    "\n",
    "d1['survey'] = d1['survey'].str.replace('No reply', '')\n",
    "d1['dependents'] = d1['dependents'].str.replace('Unknown', '')\n",
    "\n",
    "d1['survey']=np.where(d1['survey']>='5',1,0)\n",
    "d1['survey'] = d1['survey'].astype(float)\n",
    "\n",
    "\n",
    "print(d1.head(20))\n",
    "d1.shape"
   ]
  },
  {
   "cell_type": "code",
   "execution_count": 9,
   "id": "7f939f31",
   "metadata": {},
   "outputs": [
    {
     "name": "stdout",
     "output_type": "stream",
     "text": [
      "   customer_id  gender            location  partner dependents  senior  \\\n",
      "0        G1606       0          Lancashire        0          1       0   \n",
      "1        F8889       0               Essex        0          1       0   \n",
      "2        C5068       0               Essex        0                  1   \n",
      "3        G9820       1      West Yorkshire        1          1       1   \n",
      "4        H7261       1  Greater Manchester        0          1       0   \n",
      "5        K5319       1  Greater Manchester        1          0       0   \n",
      "6        C4243       0       West Midlands        1          1       0   \n",
      "7        J7639       0      Greater London        1          1       0   \n",
      "8        I6974       0  Greater Manchester        1          1       0   \n",
      "9        I3011       0          Merseyside        1          1       0   \n",
      "10       D3337       0       Hertfordshire        1          1       0   \n",
      "11       G7931       1      Greater London        0                  0   \n",
      "12       C3676       1               Devon        1                  0   \n",
      "13       K5861       0      Greater London        0          0       1   \n",
      "14       I4460       0          Lancashire        1          0       0   \n",
      "15       D7262       1       West Midlands        0          0       1   \n",
      "16       D2571       0       West Midlands        0          0       0   \n",
      "17       E4331       1          Lancashire        1                  0   \n",
      "18       K5730       0     North Yorkshire        0          1       0   \n",
      "19       A4834       0          Lancashire        0          1       0   \n",
      "\n",
      "    Tenure  monthly_cost  package  survey  Class  total_cost  \n",
      "0     20.0          34.0        2     0.0    0.0       680.0  \n",
      "1      4.0          26.0        1     1.0    0.0       104.0  \n",
      "2      9.0          34.0        2     0.0    0.0       306.0  \n",
      "3      9.0          44.0        4     1.0    0.0       396.0  \n",
      "4      6.0          34.0        2     1.0    0.0       204.0  \n",
      "5      1.0          34.0        2     0.0    1.0        34.0  \n",
      "6      8.0          26.0        1     1.0    0.0       208.0  \n",
      "7     10.0          44.0        4     1.0    0.0       440.0  \n",
      "8     22.0          44.0        4     1.0    0.0       968.0  \n",
      "9      6.0          44.0        4     1.0    0.0       264.0  \n",
      "10     0.0          44.0        4     1.0    1.0         0.0  \n",
      "11     2.0          34.0        2     0.0    1.0        68.0  \n",
      "12     8.0          44.0        4     1.0    0.0       352.0  \n",
      "13     7.0          34.0        2     1.0    1.0       238.0  \n",
      "14     3.0          40.0        3     0.0    1.0       120.0  \n",
      "15    11.0          34.0        2     0.0    1.0       374.0  \n",
      "16     3.0          26.0        1     0.0    1.0        78.0  \n",
      "17     2.0          44.0        4     1.0    0.0        88.0  \n",
      "18    23.0          40.0        3     0.0    0.0       920.0  \n",
      "19    17.0          26.0        1     0.0    0.0       442.0  \n"
     ]
    },
    {
     "data": {
      "text/plain": [
       "(7148, 12)"
      ]
     },
     "execution_count": 9,
     "metadata": {},
     "output_type": "execute_result"
    }
   ],
   "source": [
    "d1= d1.dropna(subset=['Class'])\n",
    "print(d1.head(20))\n",
    "d1.shape\n"
   ]
  },
  {
   "cell_type": "code",
   "execution_count": 10,
   "id": "45a274c7",
   "metadata": {},
   "outputs": [
    {
     "data": {
      "text/plain": [
       "customer_id     0\n",
       "gender          0\n",
       "location        0\n",
       "partner         0\n",
       "dependents      0\n",
       "senior          0\n",
       "Tenure          0\n",
       "monthly_cost    0\n",
       "package         0\n",
       "survey          0\n",
       "Class           0\n",
       "total_cost      0\n",
       "dtype: int64"
      ]
     },
     "execution_count": 10,
     "metadata": {},
     "output_type": "execute_result"
    }
   ],
   "source": [
    "d1.isna().sum()"
   ]
  },
  {
   "cell_type": "code",
   "execution_count": 11,
   "id": "89971445",
   "metadata": {},
   "outputs": [
    {
     "name": "stdout",
     "output_type": "stream",
     "text": [
      "customer_id      object\n",
      "gender            int64\n",
      "location         object\n",
      "partner           int64\n",
      "dependents       object\n",
      "senior            int64\n",
      "Tenure          float64\n",
      "monthly_cost    float64\n",
      "package           int64\n",
      "survey          float64\n",
      "Class           float64\n",
      "total_cost      float64\n",
      "dtype: object\n"
     ]
    }
   ],
   "source": [
    "print(d1.dtypes)"
   ]
  },
  {
   "cell_type": "code",
   "execution_count": 12,
   "id": "975d9f5c",
   "metadata": {},
   "outputs": [
    {
     "name": "stdout",
     "output_type": "stream",
     "text": [
      "  customer_id            location  package dependents  gender  partner  \\\n",
      "0       G1606          Lancashire        2          1       0        0   \n",
      "1       F8889               Essex        1          1       0        0   \n",
      "2       C5068               Essex        2                  0        0   \n",
      "3       G9820      West Yorkshire        4          1       1        1   \n",
      "4       H7261  Greater Manchester        2          1       1        0   \n",
      "\n",
      "   senior  Tenure  monthly_cost  total_cost  survey  Class  \n",
      "0       0    20.0          34.0       680.0     0.0    0.0  \n",
      "1       0     4.0          26.0       104.0     1.0    0.0  \n",
      "2       1     9.0          34.0       306.0     0.0    0.0  \n",
      "3       1     9.0          44.0       396.0     1.0    0.0  \n",
      "4       0     6.0          34.0       204.0     1.0    0.0  \n"
     ]
    }
   ],
   "source": [
    "d1=d1.reindex(columns= ['customer_id', 'location','package', 'dependents','gender','partner','senior', 'Tenure','monthly_cost', 'total_cost','survey', 'Class'])\n",
    "print(d1.head(5))"
   ]
  },
  {
   "cell_type": "code",
   "execution_count": 13,
   "id": "83fe174a",
   "metadata": {
    "scrolled": true
   },
   "outputs": [
    {
     "data": {
      "text/html": [
       "<div>\n",
       "<style scoped>\n",
       "    .dataframe tbody tr th:only-of-type {\n",
       "        vertical-align: middle;\n",
       "    }\n",
       "\n",
       "    .dataframe tbody tr th {\n",
       "        vertical-align: top;\n",
       "    }\n",
       "\n",
       "    .dataframe thead th {\n",
       "        text-align: right;\n",
       "    }\n",
       "</style>\n",
       "<table border=\"1\" class=\"dataframe\">\n",
       "  <thead>\n",
       "    <tr style=\"text-align: right;\">\n",
       "      <th></th>\n",
       "      <th>gender</th>\n",
       "      <th>partner</th>\n",
       "      <th>senior</th>\n",
       "      <th>Tenure</th>\n",
       "      <th>monthly_cost</th>\n",
       "      <th>total_cost</th>\n",
       "      <th>survey</th>\n",
       "      <th>Class</th>\n",
       "    </tr>\n",
       "  </thead>\n",
       "  <tbody>\n",
       "    <tr>\n",
       "      <th>0</th>\n",
       "      <td>0</td>\n",
       "      <td>0</td>\n",
       "      <td>0</td>\n",
       "      <td>20.0</td>\n",
       "      <td>34.0</td>\n",
       "      <td>680.0</td>\n",
       "      <td>0.0</td>\n",
       "      <td>0.0</td>\n",
       "    </tr>\n",
       "    <tr>\n",
       "      <th>1</th>\n",
       "      <td>0</td>\n",
       "      <td>0</td>\n",
       "      <td>0</td>\n",
       "      <td>4.0</td>\n",
       "      <td>26.0</td>\n",
       "      <td>104.0</td>\n",
       "      <td>1.0</td>\n",
       "      <td>0.0</td>\n",
       "    </tr>\n",
       "    <tr>\n",
       "      <th>2</th>\n",
       "      <td>0</td>\n",
       "      <td>0</td>\n",
       "      <td>1</td>\n",
       "      <td>9.0</td>\n",
       "      <td>34.0</td>\n",
       "      <td>306.0</td>\n",
       "      <td>0.0</td>\n",
       "      <td>0.0</td>\n",
       "    </tr>\n",
       "    <tr>\n",
       "      <th>3</th>\n",
       "      <td>1</td>\n",
       "      <td>1</td>\n",
       "      <td>1</td>\n",
       "      <td>9.0</td>\n",
       "      <td>44.0</td>\n",
       "      <td>396.0</td>\n",
       "      <td>1.0</td>\n",
       "      <td>0.0</td>\n",
       "    </tr>\n",
       "    <tr>\n",
       "      <th>4</th>\n",
       "      <td>1</td>\n",
       "      <td>0</td>\n",
       "      <td>0</td>\n",
       "      <td>6.0</td>\n",
       "      <td>34.0</td>\n",
       "      <td>204.0</td>\n",
       "      <td>1.0</td>\n",
       "      <td>0.0</td>\n",
       "    </tr>\n",
       "  </tbody>\n",
       "</table>\n",
       "</div>"
      ],
      "text/plain": [
       "   gender  partner  senior  Tenure  monthly_cost  total_cost  survey  Class\n",
       "0       0        0       0    20.0          34.0       680.0     0.0    0.0\n",
       "1       0        0       0     4.0          26.0       104.0     1.0    0.0\n",
       "2       0        0       1     9.0          34.0       306.0     0.0    0.0\n",
       "3       1        1       1     9.0          44.0       396.0     1.0    0.0\n",
       "4       1        0       0     6.0          34.0       204.0     1.0    0.0"
      ]
     },
     "execution_count": 13,
     "metadata": {},
     "output_type": "execute_result"
    }
   ],
   "source": [
    "d1_num = d1[['gender','partner','senior', 'Tenure','monthly_cost', 'total_cost','survey', 'Class']]\n",
    "d1_cat = d1[['customer_id', 'location','package', 'dependents']]\n",
    "d1_num.head(5)"
   ]
  },
  {
   "cell_type": "code",
   "execution_count": 14,
   "id": "e9e30d63",
   "metadata": {},
   "outputs": [
    {
     "name": "stdout",
     "output_type": "stream",
     "text": [
      "            gender      partner       senior       Tenure  monthly_cost  \\\n",
      "count  7148.000000  7148.000000  7148.000000  7148.000000   7148.000000   \n",
      "mean      0.497062     0.547985     0.167879     8.867375     35.142138   \n",
      "std       0.500026     0.497727     0.373785     6.178270      7.034302   \n",
      "min       0.000000     0.000000     0.000000     0.000000     26.000000   \n",
      "25%       0.000000     0.000000     0.000000     3.000000     26.000000   \n",
      "50%       0.000000     1.000000     0.000000     9.000000     34.000000   \n",
      "75%       1.000000     1.000000     0.000000    13.000000     44.000000   \n",
      "max       1.000000     1.000000     1.000000    30.000000     44.000000   \n",
      "\n",
      "        total_cost       survey        Class  \n",
      "count  7148.000000  7148.000000  7148.000000  \n",
      "mean    317.121992     0.521964     0.287493  \n",
      "std     235.855935     0.499552     0.452625  \n",
      "min       0.000000     0.000000     0.000000  \n",
      "25%     104.000000     0.000000     0.000000  \n",
      "50%     306.000000     1.000000     0.000000  \n",
      "75%     476.000000     1.000000     1.000000  \n",
      "max    1320.000000     1.000000     1.000000  \n"
     ]
    }
   ],
   "source": [
    "print(d1_num.describe())"
   ]
  },
  {
   "cell_type": "code",
   "execution_count": 15,
   "id": "acf72e73",
   "metadata": {},
   "outputs": [
    {
     "name": "stdout",
     "output_type": "stream",
     "text": [
      "       customer_id        location dependents\n",
      "count         7148            7148       7148\n",
      "unique        6578              17          3\n",
      "top          H6997  Greater London          1\n",
      "freq             4            2280       3428\n"
     ]
    }
   ],
   "source": [
    "print(d1_cat.describe(exclude=['int64','float64']))"
   ]
  },
  {
   "cell_type": "code",
   "execution_count": 16,
   "id": "797b3673",
   "metadata": {
    "scrolled": false
   },
   "outputs": [
    {
     "data": {
      "image/png": "[encoded data removed]",
      "text/plain": [
       "<Figure size 720x576 with 9 Axes>"
      ]
     },
     "metadata": {
      "needs_background": "light"
     },
     "output_type": "display_data"
    }
   ],
   "source": [
    "d1_num.hist(figsize=(10, 8), bins=50, xlabelsize=5, ylabelsize=5);"
   ]
  },
  {
   "cell_type": "code",
   "execution_count": 17,
   "id": "825250b3",
   "metadata": {},
   "outputs": [
    {
     "data": {
      "text/plain": [
       "Text(0, 0.5, 'count')"
      ]
     },
     "execution_count": 17,
     "metadata": {},
     "output_type": "execute_result"
    },
    {
     "data": {
      "image/png": "[encoded data removed]",
      "text/plain": [
       "<Figure size 432x288 with 1 Axes>"
      ]
     },
     "metadata": {
      "needs_background": "light"
     },
     "output_type": "display_data"
    }
   ],
   "source": [
    "d1['Class'].value_counts().plot(kind = 'bar').set_title('Churn')\n",
    "plt.xlabel('Class(if churn yes =1 & no =0)')\n",
    "plt.ylabel('count')"
   ]
  },
  {
   "cell_type": "code",
   "execution_count": 18,
   "id": "ac88e821",
   "metadata": {},
   "outputs": [
    {
     "data": {
      "image/png": "[encoded data removed]",
      "text/plain": [
       "<Figure size 432x288 with 1 Axes>"
      ]
     },
     "metadata": {
      "needs_background": "light"
     },
     "output_type": "display_data"
    }
   ],
   "source": [
    "sns.countplot(x='gender',hue='Class',data=d1)\n",
    "plt.xlabel('gender(female = 0 & male = 1)')\n",
    "plt.ylabel('count')\n",
    "plt.title('plot for both gender and churn(Class)')\n",
    "plt.show()"
   ]
  },
  {
   "cell_type": "code",
   "execution_count": 19,
   "id": "c79a6364",
   "metadata": {
    "scrolled": true
   },
   "outputs": [
    {
     "data": {
      "text/plain": [
       "Text(0.5, 0, 'plot for churn based on package')"
      ]
     },
     "execution_count": 19,
     "metadata": {},
     "output_type": "execute_result"
    },
    {
     "data": {
      "image/png": "[encoded data removed]",
      "text/plain": [
       "<Figure size 432x288 with 1 Axes>"
      ]
     },
     "metadata": {
      "needs_background": "light"
     },
     "output_type": "display_data"
    }
   ],
   "source": [
    "sns.countplot(x='Class',data=d1, hue='package')\n",
    "plt.xlabel('plot for churn based on package')"
   ]
  },
  {
   "cell_type": "code",
   "execution_count": 20,
   "id": "15bbb88a",
   "metadata": {},
   "outputs": [
    {
     "data": {
      "text/plain": [
       "[Text(0.5, 0, 'Tenure(No.of years customer stayed)'), Text(0, 0.5, 'count')]"
      ]
     },
     "execution_count": 20,
     "metadata": {},
     "output_type": "execute_result"
    },
    {
     "data": {
      "image/png": "[encoded data removed]",
      "text/plain": [
       "<Figure size 432x288 with 1 Axes>"
      ]
     },
     "metadata": {
      "needs_background": "light"
     },
     "output_type": "display_data"
    }
   ],
   "source": [
    "tenure_plot = sns.histplot(x = 'Tenure', hue = 'Class', data = d1, multiple='dodge')\n",
    "tenure_plot.set(xlabel=\"Tenure(No.of years customer stayed)\", ylabel = \"count\")"
   ]
  },
  {
   "cell_type": "code",
   "execution_count": 21,
   "id": "35e55491",
   "metadata": {},
   "outputs": [
    {
     "data": {
      "text/plain": [
       "[Text(0.5, 0, 'total_cost'), Text(0, 0.5, 'count')]"
      ]
     },
     "execution_count": 21,
     "metadata": {},
     "output_type": "execute_result"
    },
    {
     "data": {
      "image/png": "[encoded data removed]",
      "text/plain": [
       "<Figure size 432x288 with 1 Axes>"
      ]
     },
     "metadata": {
      "needs_background": "light"
     },
     "output_type": "display_data"
    }
   ],
   "source": [
    "tenure_plot = sns.histplot(x = 'total_cost', hue = 'Class', data = d1, multiple='dodge')\n",
    "tenure_plot.set(xlabel=\"total_cost\", ylabel = \"count\")"
   ]
  },
  {
   "cell_type": "code",
   "execution_count": 22,
   "id": "910d03a5",
   "metadata": {},
   "outputs": [
    {
     "data": {
      "text/plain": [
       "<AxesSubplot:xlabel='monthly_cost', ylabel='Count'>"
      ]
     },
     "execution_count": 22,
     "metadata": {},
     "output_type": "execute_result"
    },
    {
     "data": {
      "image/png": "[encoded data removed]",
      "text/plain": [
       "<Figure size 432x288 with 1 Axes>"
      ]
     },
     "metadata": {
      "needs_background": "light"
     },
     "output_type": "display_data"
    }
   ],
   "source": [
    "sns.histplot(x='monthly_cost',hue='Class',data=d1,multiple='dodge')\n",
    "#plt.xticks(range(20,50,5))"
   ]
  },
  {
   "cell_type": "code",
   "execution_count": 23,
   "id": "a2a863d4",
   "metadata": {},
   "outputs": [
    {
     "data": {
      "text/plain": [
       "<AxesSubplot:>"
      ]
     },
     "execution_count": 23,
     "metadata": {},
     "output_type": "execute_result"
    },
    {
     "data": {
      "image/png": "[encoded data removed]",
      "text/plain": [
       "<Figure size 432x288 with 2 Axes>"
      ]
     },
     "metadata": {
      "needs_background": "light"
     },
     "output_type": "display_data"
    }
   ],
   "source": [
    "import seaborn as sns\n",
    "corr = d1.corr()\n",
    "sns.heatmap(corr, xticklabels=corr.columns, yticklabels=corr.columns)\n",
    "#corr = data.corr()\n",
    "# Plotting the heatmap of correlation between features\n",
    "#plt.figure(figsize=(20,20))\n",
    "#sns.heatmap(corr, cbar=True, square= True, fmt='.1f', annot=True, annot_kws={'size':15}, cmap='Greens')"
   ]
  },
  {
   "cell_type": "code",
   "execution_count": 24,
   "id": "af8cfa74",
   "metadata": {},
   "outputs": [
    {
     "name": "stdout",
     "output_type": "stream",
     "text": [
      "   partner  senior  Tenure  monthly_cost  total_cost  survey\n",
      "0        0       0    20.0          34.0       680.0     0.0\n",
      "1        0       0     4.0          26.0       104.0     1.0\n",
      "2        0       1     9.0          34.0       306.0     0.0\n",
      "3        1       1     9.0          44.0       396.0     1.0\n",
      "4        0       0     6.0          34.0       204.0     1.0\n"
     ]
    }
   ],
   "source": [
    "from sklearn.preprocessing import StandardScaler\n",
    "X = d1.iloc[:,5:11]\n",
    "Y = d1.iloc[:,-1]\n",
    "#X = StandardScaler(X)\n",
    "print(X.head(5))\n",
    "#print(Y.head(5))"
   ]
  },
  {
   "cell_type": "code",
   "execution_count": 25,
   "id": "08b203f7",
   "metadata": {},
   "outputs": [
    {
     "name": "stdout",
     "output_type": "stream",
     "text": [
      "(5718, 6)\n"
     ]
    }
   ],
   "source": [
    "from sklearn.model_selection import train_test_split\n",
    "x_train, x_test, y_train, y_test = train_test_split(X, Y, test_size=0.2, random_state=0)\n",
    "print(x_train.shape)"
   ]
  },
  {
   "cell_type": "code",
   "execution_count": 26,
   "id": "ae224060",
   "metadata": {},
   "outputs": [],
   "source": [
    "from sklearn.preprocessing import MinMaxScaler\n",
    "mms = MinMaxScaler()\n",
    "x_train_norm = mms.fit_transform(x_train)\n",
    "x_test_norm = mms.transform(x_test)"
   ]
  },
  {
   "cell_type": "code",
   "execution_count": 27,
   "id": "cd59e2d6",
   "metadata": {},
   "outputs": [],
   "source": [
    "#from sklearn.preprocessing import StandardScaler\n",
    "#stdsc = StandardScaler()\n",
    "#X_train_std = stdsc.fit_transform(x_train)\n",
    "#X_test_std = stdsc.transform(x_test)\n",
    "#print(x_train.head(5))"
   ]
  },
  {
   "cell_type": "code",
   "execution_count": 28,
   "id": "46d37168",
   "metadata": {},
   "outputs": [],
   "source": [
    "from sklearn.preprocessing import StandardScaler\n",
    "from sklearn.linear_model import LogisticRegression\n",
    "from sklearn.linear_model import LinearRegression\n",
    "from sklearn import metrics\n",
    "Regressor= LogisticRegression(random_state = 50)\n",
    "Regressor.fit(x_train_norm,y_train)\n",
    "loc_pred = Regressor.predict(x_test_norm)\n",
    "loc_accuracy = round(metrics.accuracy_score(y_test, loc_pred)*100,2)"
   ]
  },
  {
   "cell_type": "code",
   "execution_count": 29,
   "id": "fcf8a710",
   "metadata": {},
   "outputs": [],
   "source": [
    "#pred_y = Regressor.predict(x_train)"
   ]
  },
  {
   "cell_type": "code",
   "execution_count": 30,
   "id": "de6a30f6",
   "metadata": {},
   "outputs": [],
   "source": [
    "#from sklearn.metrics import r2_score\n",
    "#r2_score(y_train,pred_y)"
   ]
  },
  {
   "cell_type": "code",
   "execution_count": 39,
   "id": "47dea5a8",
   "metadata": {},
   "outputs": [],
   "source": [
    "from sklearn.tree import DecisionTreeClassifier\n",
    "from sklearn.ensemble import RandomForestClassifier\n",
    "from sklearn.neighbors import KNeighborsClassifier"
   ]
  },
  {
   "cell_type": "code",
   "execution_count": 40,
   "id": "1c1b7272",
   "metadata": {},
   "outputs": [],
   "source": [
    "knn_model = KNeighborsClassifier(n_neighbors = 5,metric ='minkowski', p=2)\n",
    "knn_model.fit(x_train_norm,y_train)\n",
    "knn_pred = knn_model.predict(x_test_norm)\n",
    "knn_accuracy = round(metrics.accuracy_score(y_test, knn_pred)*100,2)"
   ]
  },
  {
   "cell_type": "code",
   "execution_count": 41,
   "id": "c2a8fcfb",
   "metadata": {},
   "outputs": [],
   "source": [
    "decisiontree_model = DecisionTreeClassifier(criterion = 'gini', random_state = 50)\n",
    "decisiontree_model.fit(x_train_norm,y_train)\n",
    "decisiontree_model_pred = decisiontree_model.predict(x_test_norm)\n",
    "decisiontree_model_accuracy = round(metrics.accuracy_score(y_test, decisiontree_model_pred)*100,2)\n"
   ]
  },
  {
   "cell_type": "code",
   "execution_count": 42,
   "id": "2ce9627b",
   "metadata": {},
   "outputs": [],
   "source": [
    "rf_model = RandomForestClassifier(n_estimators = 100, criterion = 'entropy', random_state = 0)\n",
    "rf_model.fit(x_train_norm,y_train)\n",
    "rf_model_pred = rf_model.predict(x_test_norm)\n",
    "rf_mode_accuracy = round(metrics.accuracy_score(y_test, rf_model_pred)*100,2)\n"
   ]
  },
  {
   "cell_type": "code",
   "execution_count": 43,
   "id": "70424be8",
   "metadata": {},
   "outputs": [
    {
     "data": {
      "text/html": [
       "<div>\n",
       "<style scoped>\n",
       "    .dataframe tbody tr th:only-of-type {\n",
       "        vertical-align: middle;\n",
       "    }\n",
       "\n",
       "    .dataframe tbody tr th {\n",
       "        vertical-align: top;\n",
       "    }\n",
       "\n",
       "    .dataframe thead th {\n",
       "        text-align: right;\n",
       "    }\n",
       "</style>\n",
       "<table border=\"1\" class=\"dataframe\">\n",
       "  <thead>\n",
       "    <tr style=\"text-align: right;\">\n",
       "      <th></th>\n",
       "      <th>Score</th>\n",
       "      <th>Model</th>\n",
       "    </tr>\n",
       "  </thead>\n",
       "  <tbody>\n",
       "    <tr>\n",
       "      <th>0</th>\n",
       "      <td>85.73</td>\n",
       "      <td>Random Forest</td>\n",
       "    </tr>\n",
       "    <tr>\n",
       "      <th>1</th>\n",
       "      <td>85.24</td>\n",
       "      <td>Decision Tree</td>\n",
       "    </tr>\n",
       "    <tr>\n",
       "      <th>2</th>\n",
       "      <td>84.90</td>\n",
       "      <td>K-Nearest Neighbor</td>\n",
       "    </tr>\n",
       "    <tr>\n",
       "      <th>3</th>\n",
       "      <td>84.69</td>\n",
       "      <td>Logistic Regression</td>\n",
       "    </tr>\n",
       "  </tbody>\n",
       "</table>\n",
       "</div>"
      ],
      "text/plain": [
       "   Score                Model\n",
       "0  85.73        Random Forest\n",
       "1  85.24        Decision Tree\n",
       "2  84.90   K-Nearest Neighbor\n",
       "3  84.69  Logistic Regression"
      ]
     },
     "execution_count": 43,
     "metadata": {},
     "output_type": "execute_result"
    }
   ],
   "source": [
    "model_comparison = pd.DataFrame({'Model': ['Logistic Regression','K-Nearest Neighbor','Decision Tree','Random Forest'],'Score':[loc_accuracy,knn_accuracy,decisiontree_model_accuracy,rf_mode_accuracy]})\n",
    "model_comparison_d1 = model_comparison.sort_values(by = 'Score', ascending = False)\n",
    "model_comparison_d1 = model_comparison_d1.set_index('Score')\n",
    "model_comparison_d1.reset_index()"
   ]
  },
  {
   "cell_type": "code",
   "execution_count": 45,
   "id": "07c17b82",
   "metadata": {},
   "outputs": [
    {
     "data": {
      "text/plain": [
       "array([[929,  89],\n",
       "       [115, 297]], dtype=int64)"
      ]
     },
     "execution_count": 45,
     "metadata": {},
     "output_type": "execute_result"
    }
   ],
   "source": [
    "from sklearn.metrics import confusion_matrix\n",
    "confus_rf = confusion_matrix(y_test,rf_model_pred)\n",
    "confus_rf"
   ]
  },
  {
   "cell_type": "code",
   "execution_count": null,
   "id": "59ded30e",
   "metadata": {},
   "outputs": [],
   "source": []
  }
 ],
 "metadata": {
  "kernelspec": {
   "display_name": "Python 3 (ipykernel)",
   "language": "python",
   "name": "python3"
  },
  "language_info": {
   "codemirror_mode": {
    "name": "ipython",
    "version": 3
   },
   "file_extension": ".py",
   "mimetype": "text/x-python",
   "name": "python",
   "nbconvert_exporter": "python",
   "pygments_lexer": "ipython3",
   "version": "3.8.8"
  }
 },
 "nbformat": 4,
 "nbformat_minor": 5
}
